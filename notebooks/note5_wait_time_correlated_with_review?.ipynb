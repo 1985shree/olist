{
 "cells": [
  {
   "cell_type": "markdown",
   "id": "62610b8a",
   "metadata": {},
   "source": [
    "# importing modules"
   ]
  },
  {
   "cell_type": "code",
   "execution_count": 1,
   "id": "13da8330",
   "metadata": {},
   "outputs": [],
   "source": [
    "import pandas as pd\n",
    "import numpy as np\n",
    "import matplotlib.pyplot as plt\n",
    "import seaborn as sns\n",
    "from olist.data import Olist\n",
    "from olist.order import Order\n",
    "from datetime import date, datetime"
   ]
  },
  {
   "cell_type": "code",
   "execution_count": 2,
   "id": "e04a7f4f",
   "metadata": {},
   "outputs": [
    {
     "name": "stderr",
     "output_type": "stream",
     "text": [
      "/Users/shreetamakarmakar/code/1985shree/olist/olist/order.py:75: FutureWarning: Indexing with multiple keys (implicitly converted to a tuple of keys) will be deprecated, use a list instead.\n",
      "  order_items = order_items.groupby('order_id')['order_item_id', 'price', 'freight_value']\\\n"
     ]
    },
    {
     "data": {
      "text/html": [
       "<div>\n",
       "<style scoped>\n",
       "    .dataframe tbody tr th:only-of-type {\n",
       "        vertical-align: middle;\n",
       "    }\n",
       "\n",
       "    .dataframe tbody tr th {\n",
       "        vertical-align: top;\n",
       "    }\n",
       "\n",
       "    .dataframe thead th {\n",
       "        text-align: right;\n",
       "    }\n",
       "</style>\n",
       "<table border=\"1\" class=\"dataframe\">\n",
       "  <thead>\n",
       "    <tr style=\"text-align: right;\">\n",
       "      <th></th>\n",
       "      <th>order_id</th>\n",
       "      <th>true_wait_time</th>\n",
       "      <th>delay_vs_expected</th>\n",
       "      <th>order_status</th>\n",
       "      <th>one_star</th>\n",
       "      <th>five_star</th>\n",
       "      <th>review_score</th>\n",
       "      <th>number_of_products</th>\n",
       "      <th>number_of_sellers</th>\n",
       "      <th>price</th>\n",
       "      <th>freight_value</th>\n",
       "    </tr>\n",
       "  </thead>\n",
       "  <tbody>\n",
       "    <tr>\n",
       "      <th>0</th>\n",
       "      <td>e481f51cbdc54678b7cc49136f2d6af7</td>\n",
       "      <td>8.436574</td>\n",
       "      <td>0.0</td>\n",
       "      <td>delivered</td>\n",
       "      <td>0</td>\n",
       "      <td>0</td>\n",
       "      <td>4</td>\n",
       "      <td>1</td>\n",
       "      <td>1</td>\n",
       "      <td>29.99</td>\n",
       "      <td>8.72</td>\n",
       "    </tr>\n",
       "    <tr>\n",
       "      <th>1</th>\n",
       "      <td>53cdb2fc8bc7dce0b6741e2150273451</td>\n",
       "      <td>13.782037</td>\n",
       "      <td>0.0</td>\n",
       "      <td>delivered</td>\n",
       "      <td>0</td>\n",
       "      <td>0</td>\n",
       "      <td>4</td>\n",
       "      <td>1</td>\n",
       "      <td>1</td>\n",
       "      <td>118.70</td>\n",
       "      <td>22.76</td>\n",
       "    </tr>\n",
       "    <tr>\n",
       "      <th>2</th>\n",
       "      <td>47770eb9100c2d0c44946d9cf07ec65d</td>\n",
       "      <td>9.394213</td>\n",
       "      <td>0.0</td>\n",
       "      <td>delivered</td>\n",
       "      <td>0</td>\n",
       "      <td>1</td>\n",
       "      <td>5</td>\n",
       "      <td>1</td>\n",
       "      <td>1</td>\n",
       "      <td>159.90</td>\n",
       "      <td>19.22</td>\n",
       "    </tr>\n",
       "    <tr>\n",
       "      <th>3</th>\n",
       "      <td>949d5b44dbf5de918fe9c16f97b45f8a</td>\n",
       "      <td>13.208750</td>\n",
       "      <td>0.0</td>\n",
       "      <td>delivered</td>\n",
       "      <td>0</td>\n",
       "      <td>1</td>\n",
       "      <td>5</td>\n",
       "      <td>1</td>\n",
       "      <td>1</td>\n",
       "      <td>45.00</td>\n",
       "      <td>27.20</td>\n",
       "    </tr>\n",
       "    <tr>\n",
       "      <th>4</th>\n",
       "      <td>ad21c59c0840e6cb83a9ceb5573f8159</td>\n",
       "      <td>2.873877</td>\n",
       "      <td>0.0</td>\n",
       "      <td>delivered</td>\n",
       "      <td>0</td>\n",
       "      <td>1</td>\n",
       "      <td>5</td>\n",
       "      <td>1</td>\n",
       "      <td>1</td>\n",
       "      <td>19.90</td>\n",
       "      <td>8.72</td>\n",
       "    </tr>\n",
       "  </tbody>\n",
       "</table>\n",
       "</div>"
      ],
      "text/plain": [
       "                           order_id  true_wait_time  delay_vs_expected  \\\n",
       "0  e481f51cbdc54678b7cc49136f2d6af7        8.436574                0.0   \n",
       "1  53cdb2fc8bc7dce0b6741e2150273451       13.782037                0.0   \n",
       "2  47770eb9100c2d0c44946d9cf07ec65d        9.394213                0.0   \n",
       "3  949d5b44dbf5de918fe9c16f97b45f8a       13.208750                0.0   \n",
       "4  ad21c59c0840e6cb83a9ceb5573f8159        2.873877                0.0   \n",
       "\n",
       "  order_status  one_star  five_star  review_score  number_of_products  \\\n",
       "0    delivered         0          0             4                   1   \n",
       "1    delivered         0          0             4                   1   \n",
       "2    delivered         0          1             5                   1   \n",
       "3    delivered         0          1             5                   1   \n",
       "4    delivered         0          1             5                   1   \n",
       "\n",
       "   number_of_sellers   price  freight_value  \n",
       "0                  1   29.99           8.72  \n",
       "1                  1  118.70          22.76  \n",
       "2                  1  159.90          19.22  \n",
       "3                  1   45.00          27.20  \n",
       "4                  1   19.90           8.72  "
      ]
     },
     "execution_count": 2,
     "metadata": {},
     "output_type": "execute_result"
    }
   ],
   "source": [
    "orders = Order().get_training_data()\n",
    "orders.head()"
   ]
  },
  {
   "cell_type": "markdown",
   "id": "0c982e0a",
   "metadata": {},
   "source": [
    "# checking for statistics and information "
   ]
  },
  {
   "cell_type": "code",
   "execution_count": 3,
   "id": "96db8faa",
   "metadata": {},
   "outputs": [
    {
     "data": {
      "text/html": [
       "<div>\n",
       "<style scoped>\n",
       "    .dataframe tbody tr th:only-of-type {\n",
       "        vertical-align: middle;\n",
       "    }\n",
       "\n",
       "    .dataframe tbody tr th {\n",
       "        vertical-align: top;\n",
       "    }\n",
       "\n",
       "    .dataframe thead th {\n",
       "        text-align: right;\n",
       "    }\n",
       "</style>\n",
       "<table border=\"1\" class=\"dataframe\">\n",
       "  <thead>\n",
       "    <tr style=\"text-align: right;\">\n",
       "      <th></th>\n",
       "      <th>true_wait_time</th>\n",
       "      <th>delay_vs_expected</th>\n",
       "      <th>one_star</th>\n",
       "      <th>five_star</th>\n",
       "      <th>review_score</th>\n",
       "      <th>number_of_products</th>\n",
       "      <th>number_of_sellers</th>\n",
       "      <th>price</th>\n",
       "      <th>freight_value</th>\n",
       "    </tr>\n",
       "  </thead>\n",
       "  <tbody>\n",
       "    <tr>\n",
       "      <th>count</th>\n",
       "      <td>96353.000000</td>\n",
       "      <td>96353.000000</td>\n",
       "      <td>96353.000000</td>\n",
       "      <td>96353.000000</td>\n",
       "      <td>96353.000000</td>\n",
       "      <td>96353.000000</td>\n",
       "      <td>96353.000000</td>\n",
       "      <td>96353.000000</td>\n",
       "      <td>96353.000000</td>\n",
       "    </tr>\n",
       "    <tr>\n",
       "      <th>mean</th>\n",
       "      <td>12.522869</td>\n",
       "      <td>0.754903</td>\n",
       "      <td>0.097610</td>\n",
       "      <td>0.592187</td>\n",
       "      <td>4.155688</td>\n",
       "      <td>1.141687</td>\n",
       "      <td>1.013918</td>\n",
       "      <td>136.654623</td>\n",
       "      <td>22.757810</td>\n",
       "    </tr>\n",
       "    <tr>\n",
       "      <th>std</th>\n",
       "      <td>9.457183</td>\n",
       "      <td>4.656481</td>\n",
       "      <td>0.296788</td>\n",
       "      <td>0.491431</td>\n",
       "      <td>1.284979</td>\n",
       "      <td>0.535362</td>\n",
       "      <td>0.123616</td>\n",
       "      <td>207.444085</td>\n",
       "      <td>21.496018</td>\n",
       "    </tr>\n",
       "    <tr>\n",
       "      <th>min</th>\n",
       "      <td>0.533414</td>\n",
       "      <td>0.000000</td>\n",
       "      <td>0.000000</td>\n",
       "      <td>0.000000</td>\n",
       "      <td>1.000000</td>\n",
       "      <td>1.000000</td>\n",
       "      <td>1.000000</td>\n",
       "      <td>0.850000</td>\n",
       "      <td>0.000000</td>\n",
       "    </tr>\n",
       "    <tr>\n",
       "      <th>25%</th>\n",
       "      <td>6.763530</td>\n",
       "      <td>0.000000</td>\n",
       "      <td>0.000000</td>\n",
       "      <td>0.000000</td>\n",
       "      <td>4.000000</td>\n",
       "      <td>1.000000</td>\n",
       "      <td>1.000000</td>\n",
       "      <td>45.900000</td>\n",
       "      <td>13.840000</td>\n",
       "    </tr>\n",
       "    <tr>\n",
       "      <th>50%</th>\n",
       "      <td>10.211944</td>\n",
       "      <td>0.000000</td>\n",
       "      <td>0.000000</td>\n",
       "      <td>1.000000</td>\n",
       "      <td>5.000000</td>\n",
       "      <td>1.000000</td>\n",
       "      <td>1.000000</td>\n",
       "      <td>86.000000</td>\n",
       "      <td>17.160000</td>\n",
       "    </tr>\n",
       "    <tr>\n",
       "      <th>75%</th>\n",
       "      <td>15.685278</td>\n",
       "      <td>0.000000</td>\n",
       "      <td>0.000000</td>\n",
       "      <td>1.000000</td>\n",
       "      <td>5.000000</td>\n",
       "      <td>1.000000</td>\n",
       "      <td>1.000000</td>\n",
       "      <td>149.900000</td>\n",
       "      <td>23.990000</td>\n",
       "    </tr>\n",
       "    <tr>\n",
       "      <th>max</th>\n",
       "      <td>208.351759</td>\n",
       "      <td>188.975081</td>\n",
       "      <td>1.000000</td>\n",
       "      <td>1.000000</td>\n",
       "      <td>5.000000</td>\n",
       "      <td>21.000000</td>\n",
       "      <td>5.000000</td>\n",
       "      <td>13440.000000</td>\n",
       "      <td>1794.960000</td>\n",
       "    </tr>\n",
       "  </tbody>\n",
       "</table>\n",
       "</div>"
      ],
      "text/plain": [
       "       true_wait_time  delay_vs_expected      one_star     five_star  \\\n",
       "count    96353.000000       96353.000000  96353.000000  96353.000000   \n",
       "mean        12.522869           0.754903      0.097610      0.592187   \n",
       "std          9.457183           4.656481      0.296788      0.491431   \n",
       "min          0.533414           0.000000      0.000000      0.000000   \n",
       "25%          6.763530           0.000000      0.000000      0.000000   \n",
       "50%         10.211944           0.000000      0.000000      1.000000   \n",
       "75%         15.685278           0.000000      0.000000      1.000000   \n",
       "max        208.351759         188.975081      1.000000      1.000000   \n",
       "\n",
       "       review_score  number_of_products  number_of_sellers         price  \\\n",
       "count  96353.000000        96353.000000       96353.000000  96353.000000   \n",
       "mean       4.155688            1.141687           1.013918    136.654623   \n",
       "std        1.284979            0.535362           0.123616    207.444085   \n",
       "min        1.000000            1.000000           1.000000      0.850000   \n",
       "25%        4.000000            1.000000           1.000000     45.900000   \n",
       "50%        5.000000            1.000000           1.000000     86.000000   \n",
       "75%        5.000000            1.000000           1.000000    149.900000   \n",
       "max        5.000000           21.000000           5.000000  13440.000000   \n",
       "\n",
       "       freight_value  \n",
       "count   96353.000000  \n",
       "mean       22.757810  \n",
       "std        21.496018  \n",
       "min         0.000000  \n",
       "25%        13.840000  \n",
       "50%        17.160000  \n",
       "75%        23.990000  \n",
       "max      1794.960000  "
      ]
     },
     "execution_count": 3,
     "metadata": {},
     "output_type": "execute_result"
    }
   ],
   "source": [
    "orders.describe()"
   ]
  },
  {
   "cell_type": "code",
   "execution_count": 4,
   "id": "88093fdd",
   "metadata": {},
   "outputs": [
    {
     "name": "stdout",
     "output_type": "stream",
     "text": [
      "<class 'pandas.core.frame.DataFrame'>\n",
      "Int64Index: 96353 entries, 0 to 96360\n",
      "Data columns (total 11 columns):\n",
      " #   Column              Non-Null Count  Dtype  \n",
      "---  ------              --------------  -----  \n",
      " 0   order_id            96353 non-null  object \n",
      " 1   true_wait_time      96353 non-null  float64\n",
      " 2   delay_vs_expected   96353 non-null  float64\n",
      " 3   order_status        96353 non-null  object \n",
      " 4   one_star            96353 non-null  int64  \n",
      " 5   five_star           96353 non-null  int64  \n",
      " 6   review_score        96353 non-null  int64  \n",
      " 7   number_of_products  96353 non-null  int64  \n",
      " 8   number_of_sellers   96353 non-null  int64  \n",
      " 9   price               96353 non-null  float64\n",
      " 10  freight_value       96353 non-null  float64\n",
      "dtypes: float64(4), int64(5), object(2)\n",
      "memory usage: 8.8+ MB\n"
     ]
    }
   ],
   "source": [
    "orders.info()"
   ]
  },
  {
   "cell_type": "markdown",
   "id": "cd635494",
   "metadata": {},
   "source": [
    "# some seaborn visualization and analysis"
   ]
  },
  {
   "cell_type": "markdown",
   "id": "f858cf2a",
   "metadata": {},
   "source": [
    "## seaborn heatmap to check correlations"
   ]
  },
  {
   "cell_type": "code",
   "execution_count": 5,
   "id": "40f4bada",
   "metadata": {},
   "outputs": [
    {
     "data": {
      "text/plain": [
       "<AxesSubplot:>"
      ]
     },
     "execution_count": 5,
     "metadata": {},
     "output_type": "execute_result"
    },
    {
     "data": {
      "image/png": "[encoded data removed]",
      "text/plain": [
       "<Figure size 1080x720 with 2 Axes>"
      ]
     },
     "metadata": {
      "needs_background": "light"
     },
     "output_type": "display_data"
    }
   ],
   "source": [
    "plt.figure(figsize = (15, 10))\n",
    "sns.heatmap(orders.corr(), cmap = 'coolwarm', annot = True, )"
   ]
  },
  {
   "cell_type": "code",
   "execution_count": 6,
   "id": "5e1f6439",
   "metadata": {},
   "outputs": [
    {
     "data": {
      "text/html": [
       "<div>\n",
       "<style scoped>\n",
       "    .dataframe tbody tr th:only-of-type {\n",
       "        vertical-align: middle;\n",
       "    }\n",
       "\n",
       "    .dataframe tbody tr th {\n",
       "        vertical-align: top;\n",
       "    }\n",
       "\n",
       "    .dataframe thead th {\n",
       "        text-align: right;\n",
       "    }\n",
       "</style>\n",
       "<table border=\"1\" class=\"dataframe\">\n",
       "  <thead>\n",
       "    <tr style=\"text-align: right;\">\n",
       "      <th></th>\n",
       "      <th>true_wait_time</th>\n",
       "      <th>delay_vs_expected</th>\n",
       "      <th>one_star</th>\n",
       "      <th>five_star</th>\n",
       "      <th>review_score</th>\n",
       "      <th>number_of_products</th>\n",
       "      <th>number_of_sellers</th>\n",
       "      <th>price</th>\n",
       "      <th>freight_value</th>\n",
       "    </tr>\n",
       "  </thead>\n",
       "  <tbody>\n",
       "    <tr>\n",
       "      <th>true_wait_time</th>\n",
       "      <td>1.000000</td>\n",
       "      <td>0.702802</td>\n",
       "      <td>0.305641</td>\n",
       "      <td>-0.233716</td>\n",
       "      <td>-0.333758</td>\n",
       "      <td>-0.019855</td>\n",
       "      <td>-0.040807</td>\n",
       "      <td>0.055169</td>\n",
       "      <td>0.167226</td>\n",
       "    </tr>\n",
       "    <tr>\n",
       "      <th>delay_vs_expected</th>\n",
       "      <td>0.702802</td>\n",
       "      <td>1.000000</td>\n",
       "      <td>0.284817</td>\n",
       "      <td>-0.156534</td>\n",
       "      <td>-0.272281</td>\n",
       "      <td>-0.013711</td>\n",
       "      <td>-0.017212</td>\n",
       "      <td>0.016463</td>\n",
       "      <td>0.024152</td>\n",
       "    </tr>\n",
       "    <tr>\n",
       "      <th>one_star</th>\n",
       "      <td>0.305641</td>\n",
       "      <td>0.284817</td>\n",
       "      <td>1.000000</td>\n",
       "      <td>-0.396322</td>\n",
       "      <td>-0.807700</td>\n",
       "      <td>0.119955</td>\n",
       "      <td>0.102436</td>\n",
       "      <td>0.044792</td>\n",
       "      <td>0.082611</td>\n",
       "    </tr>\n",
       "    <tr>\n",
       "      <th>five_star</th>\n",
       "      <td>-0.233716</td>\n",
       "      <td>-0.156534</td>\n",
       "      <td>-0.396322</td>\n",
       "      <td>1.000000</td>\n",
       "      <td>0.791787</td>\n",
       "      <td>-0.072527</td>\n",
       "      <td>-0.070409</td>\n",
       "      <td>-0.012929</td>\n",
       "      <td>-0.058843</td>\n",
       "    </tr>\n",
       "    <tr>\n",
       "      <th>review_score</th>\n",
       "      <td>-0.333758</td>\n",
       "      <td>-0.272281</td>\n",
       "      <td>-0.807700</td>\n",
       "      <td>0.791787</td>\n",
       "      <td>1.000000</td>\n",
       "      <td>-0.123492</td>\n",
       "      <td>-0.116942</td>\n",
       "      <td>-0.034742</td>\n",
       "      <td>-0.090013</td>\n",
       "    </tr>\n",
       "  </tbody>\n",
       "</table>\n",
       "</div>"
      ],
      "text/plain": [
       "                   true_wait_time  delay_vs_expected  one_star  five_star  \\\n",
       "true_wait_time           1.000000           0.702802  0.305641  -0.233716   \n",
       "delay_vs_expected        0.702802           1.000000  0.284817  -0.156534   \n",
       "one_star                 0.305641           0.284817  1.000000  -0.396322   \n",
       "five_star               -0.233716          -0.156534 -0.396322   1.000000   \n",
       "review_score            -0.333758          -0.272281 -0.807700   0.791787   \n",
       "\n",
       "                   review_score  number_of_products  number_of_sellers  \\\n",
       "true_wait_time        -0.333758           -0.019855          -0.040807   \n",
       "delay_vs_expected     -0.272281           -0.013711          -0.017212   \n",
       "one_star              -0.807700            0.119955           0.102436   \n",
       "five_star              0.791787           -0.072527          -0.070409   \n",
       "review_score           1.000000           -0.123492          -0.116942   \n",
       "\n",
       "                      price  freight_value  \n",
       "true_wait_time     0.055169       0.167226  \n",
       "delay_vs_expected  0.016463       0.024152  \n",
       "one_star           0.044792       0.082611  \n",
       "five_star         -0.012929      -0.058843  \n",
       "review_score      -0.034742      -0.090013  "
      ]
     },
     "execution_count": 6,
     "metadata": {},
     "output_type": "execute_result"
    }
   ],
   "source": [
    "orders_corr = orders.corr(method = 'pearson')\n",
    "orders_corr.head()"
   ]
  },
  {
   "cell_type": "code",
   "execution_count": 7,
   "id": "078a46e6",
   "metadata": {
    "scrolled": false
   },
   "outputs": [
    {
     "data": {
      "text/plain": [
       "<AxesSubplot:title={'center':'business metrics correlation with review score'}>"
      ]
     },
     "execution_count": 7,
     "metadata": {},
     "output_type": "execute_result"
    },
    {
     "data": {
      "image/png": "[encoded data removed]",
      "text/plain": [
       "<Figure size 432x288 with 1 Axes>"
      ]
     },
     "metadata": {
      "needs_background": "light"
     },
     "output_type": "display_data"
    }
   ],
   "source": [
    "# easy visualization of pairwise correlation, with review scores\n",
    "orders_corr.review_score.plot(kind='barh', title = 'business metrics correlation with review score')"
   ]
  },
  {
   "cell_type": "code",
   "execution_count": 8,
   "id": "27bbc632",
   "metadata": {},
   "outputs": [],
   "source": [
    "# of courese, one_star is POSITIVELY and five star is NEGATIVELY correlated with true and expected wait time(33% and 27% respectively).\n",
    "# in general, our modified review score (that takes into account fairly positive reviews now) has strong\n",
    "# Negative correlation with wait time \n",
    "# price, freight value, number of products and sellers have relatively weak correlation with review score. \n"
   ]
  },
  {
   "cell_type": "markdown",
   "id": "f358377f",
   "metadata": {},
   "source": [
    "# simple regression models with seaborn regression"
   ]
  },
  {
   "cell_type": "code",
   "execution_count": 9,
   "id": "3f581154",
   "metadata": {},
   "outputs": [],
   "source": [
    "sample = orders.sample(10000, random_state=42)"
   ]
  },
  {
   "cell_type": "code",
   "execution_count": 24,
   "id": "23eb6560",
   "metadata": {},
   "outputs": [
    {
     "data": {
      "text/plain": [
       "<AxesSubplot:xlabel='true_wait_time', ylabel='review_score'>"
      ]
     },
     "execution_count": 24,
     "metadata": {},
     "output_type": "execute_result"
    },
    {
     "data": {
      "image/png": "[encoded data removed]",
      "text/plain": [
       "<Figure size 432x288 with 1 Axes>"
      ]
     },
     "metadata": {
      "needs_background": "light"
     },
     "output_type": "display_data"
    }
   ],
   "source": [
    "sns.regplot(x = sample.true_wait_time, y = sample.review_score, ci = 95, y_jitter = 0.1)# jitter is only for decoration"
   ]
  },
  {
   "cell_type": "code",
   "execution_count": 25,
   "id": "f1415af6",
   "metadata": {},
   "outputs": [],
   "source": [
    "# slope is -1/20 approx, so it means for each 20 day delay, review drops by 1 point. We will test this soon."
   ]
  },
  {
   "cell_type": "code",
   "execution_count": 27,
   "id": "a9f2c9fd",
   "metadata": {},
   "outputs": [
    {
     "data": {
      "text/plain": [
       "<AxesSubplot:xlabel='delay_vs_expected', ylabel='review_score'>"
      ]
     },
     "execution_count": 27,
     "metadata": {},
     "output_type": "execute_result"
    },
    {
     "data": {
      "image/png": "[encoded data removed]",
      "text/plain": [
       "<Figure size 432x288 with 1 Axes>"
      ]
     },
     "metadata": {
      "needs_background": "light"
     },
     "output_type": "display_data"
    }
   ],
   "source": [
    "sns.regplot(x = sample.delay_vs_expected, y = sample.review_score, ci = 95, y_jitter = 0.1)"
   ]
  },
  {
   "cell_type": "code",
   "execution_count": 13,
   "id": "b2a50897",
   "metadata": {},
   "outputs": [],
   "source": [
    "# slope is -1/10 approx, so it means for each 10 day expected delay, review drops by 1 point. We will test this soon."
   ]
  },
  {
   "cell_type": "code",
   "execution_count": 14,
   "id": "e1568e6a",
   "metadata": {},
   "outputs": [],
   "source": [
    "# these plots are not very intuitive either, because review scores are categorical variables.\n",
    "# nevertheless, we can test the null hypothesis. let us get back to it in some days."
   ]
  },
  {
   "cell_type": "markdown",
   "id": "94103388",
   "metadata": {},
   "source": [
    "# testing null hypothesis aka 'delivery time does not impact reviews'"
   ]
  },
  {
   "cell_type": "code",
   "execution_count": 28,
   "id": "b0192046",
   "metadata": {},
   "outputs": [],
   "source": [
    "## this can be done with checking confidence interval of the regplot fit (default is 95%, but still tested it)\n",
    "## 95% ci in both plots do ot include a 0 slope (p value is less than 5%)\n",
    "## null hypothesis rejected"
   ]
  },
  {
   "cell_type": "markdown",
   "id": "b45c1fa6",
   "metadata": {},
   "source": [
    "# alternative hypothesis : 'delivery time impacts reviews'"
   ]
  },
  {
   "cell_type": "code",
   "execution_count": null,
   "id": "62a4fa15",
   "metadata": {},
   "outputs": [],
   "source": [
    "# now that we consider this: we ne"
   ]
  }
 ],
 "metadata": {
  "kernelspec": {
   "display_name": "Python 3 (ipykernel)",
   "language": "python",
   "name": "python3"
  },
  "language_info": {
   "codemirror_mode": {
    "name": "ipython",
    "version": 3
   },
   "file_extension": ".py",
   "mimetype": "text/x-python",
   "name": "python",
   "nbconvert_exporter": "python",
   "pygments_lexer": "ipython3",
   "version": "3.8.13"
  },
  "toc": {
   "base_numbering": 1,
   "nav_menu": {},
   "number_sections": true,
   "sideBar": true,
   "skip_h1_title": false,
   "title_cell": "Table of Contents",
   "title_sidebar": "Contents",
   "toc_cell": false,
   "toc_position": {},
   "toc_section_display": true,
   "toc_window_display": false
  }
 },
 "nbformat": 4,
 "nbformat_minor": 5
}
